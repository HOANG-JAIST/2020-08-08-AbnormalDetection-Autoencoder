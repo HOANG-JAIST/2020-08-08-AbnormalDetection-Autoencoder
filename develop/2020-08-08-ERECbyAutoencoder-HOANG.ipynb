{
 "cells": [
  {
   "cell_type": "markdown",
   "metadata": {},
   "source": [
    "# Code\n",
    "## Import the desired libraries."
   ]
  },
  {
   "cell_type": "code",
   "execution_count": 1,
   "metadata": {},
   "outputs": [
    {
     "name": "stderr",
     "output_type": "stream",
     "text": [
      "/Users/hoang/anaconda3/lib/python3.6/site-packages/h5py/__init__.py:36: FutureWarning: Conversion of the second argument of issubdtype from `float` to `np.floating` is deprecated. In future, it will be treated as `np.float64 == np.dtype(float).type`.\n",
      "  from ._conv import register_converters as _register_converters\n",
      "Using TensorFlow backend.\n"
     ]
    }
   ],
   "source": [
    "%matplotlib inline\n",
    "\n",
    "import matplotlib.pyplot as plt\n",
    "import seaborn as sns\n",
    "\n",
    "import pandas as pd\n",
    "import numpy as np\n",
    "\n",
    "from pylab import rcParams\n",
    "import tensorflow as tf\n",
    "\n",
    "from keras.models import Model, load_model\n",
    "from keras.layers import Input, Dense\n",
    "from keras.callbacks import ModelCheckpoint, TensorBoard\n",
    "from keras import regularizers\n",
    "\n",
    "from sklearn.preprocessing import StandardScaler\n",
    "from sklearn.model_selection import train_test_split\n",
    "from sklearn.metrics import confusion_matrix, precision_recall_curve\n",
    "from sklearn.metrics import recall_score, classification_report, auc, roc_curve\n",
    "from sklearn.metrics import precision_recall_fscore_support, f1_score\n",
    "\n",
    "from numpy.random import seed\n",
    "seed(1)\n",
    "from tensorflow import set_random_seed\n",
    "set_random_seed(2)\n",
    "\n",
    "SEED = 123 #used to help randomly select the data points\n",
    "DATA_SPLIT_PCT = 0.2\n",
    "rcParams['figure.figsize'] = 8, 6\n",
    "LABELS = [\"Normal\",\"Break\"]"
   ]
  },
  {
   "cell_type": "markdown",
   "metadata": {},
   "source": [
    "# Data preprocessing"
   ]
  },
  {
   "cell_type": "code",
   "execution_count": 5,
   "metadata": {},
   "outputs": [],
   "source": [
    "df = pd.read_csv(\"../data/processminer-rare-event-mts.csv\")"
   ]
  },
  {
   "cell_type": "code",
   "execution_count": 6,
   "metadata": {},
   "outputs": [
    {
     "name": "stdout",
     "output_type": "stream",
     "text": [
      "/Users/hoang/Projects/2020-08-08-AbnormalDetection-Autoencoder/develop\r\n"
     ]
    }
   ],
   "source": [
    "!pwd"
   ]
  },
  {
   "cell_type": "markdown",
   "metadata": {},
   "source": [
    "The following UDF for the curve shifting"
   ]
  },
  {
   "cell_type": "code",
   "execution_count": 7,
   "metadata": {},
   "outputs": [],
   "source": [
    "sign = lambda x: (1, -1)[x < 0]\n",
    "\n",
    "def curve_shift(df, shift_by):\n",
    "    '''\n",
    "    This function will shift the binary labels in a dataframe.\n",
    "    The curve shift will be with respect to the 1s. \n",
    "    For example, if shift is -2, the following process\n",
    "    will happen: if row n is labeled as 1, then\n",
    "    - Make row (n+shift_by):(n+shift_by-1) = 1.\n",
    "    - Remove row n.\n",
    "    i.e. the labels will be shifted up to 2 rows up.\n",
    "    \n",
    "    Inputs:\n",
    "    df       A pandas dataframe with a binary labeled column. \n",
    "             This labeled column should be named as 'y'.\n",
    "    shift_by An integer denoting the number of rows to shift.\n",
    "    \n",
    "    Output\n",
    "    df       A dataframe with the binary labels shifted by shift.\n",
    "    '''\n",
    "\n",
    "    vector = df['y'].copy()\n",
    "    for s in range(abs(shift_by)):\n",
    "        tmp = vector.shift(sign(shift_by))\n",
    "        tmp = tmp.fillna(0)\n",
    "        vector += tmp\n",
    "    labelcol = 'y'\n",
    "    # Add vector to the df\n",
    "    df.insert(loc=0, column=labelcol+'tmp', value=vector)\n",
    "    # Remove the rows with labelcol == 1.\n",
    "    df = df.drop(df[df[labelcol] == 1].index)\n",
    "    # Drop labelcol and rename the tmp col as labelcol\n",
    "    df = df.drop(labelcol, axis=1)\n",
    "    df = df.rename(columns={labelcol+'tmp': labelcol})\n",
    "    # Make the labelcol binary\n",
    "    df.loc[df[labelcol] > 0, labelcol] = 1\n",
    "\n",
    "    return df"
   ]
  },
  {
   "cell_type": "markdown",
   "metadata": {},
   "source": [
    "Before moving forward, we will drop the time, and also the categorical columns for simplicity."
   ]
  },
  {
   "cell_type": "code",
   "execution_count": 8,
   "metadata": {},
   "outputs": [],
   "source": [
    "# Remove time column, and the categorical columns\n",
    "df = df.drop(['time', 'x28', 'x61'], axis=1)"
   ]
  },
  {
   "cell_type": "markdown",
   "metadata": {},
   "source": [
    "## Splitting data"
   ]
  },
  {
   "cell_type": "code",
   "execution_count": 9,
   "metadata": {},
   "outputs": [],
   "source": [
    "df_train, df_test = train_test_split(df, test_size=DATA_SPLIT_PCT, random_state=SEED)\n",
    "df_train, df_valid = train_test_split(df_train, test_size=DATA_SPLIT_PCT, random_state=SEED)\n",
    "\n",
    "df_train_0 = df_train.loc[df['y'] == 0]\n",
    "df_train_1 = df_train.loc[df['y'] == 1]\n",
    "\n",
    "df_train_0_x = df_train_0.drop(['y'], axis=1)\n",
    "df_train_1_x = df_train_1.drop(['y'], axis=1)\n",
    "\n",
    "df_valid_0 = df_valid.loc[df['y'] == 0]\n",
    "df_valid_1 = df_valid.loc[df['y'] == 1]\n",
    "\n",
    "df_valid_0_x = df_valid_0.drop(['y'], axis=1)\n",
    "df_valid_1_x = df_valid_1.drop(['y'], axis=1)\n",
    "\n",
    "df_test_0 = df_test.loc[df['y'] == 0]\n",
    "df_test_1 = df_test.loc[df['y'] == 1]\n",
    "\n",
    "df_test_0_x = df_test_0.drop(['y'], axis=1)\n",
    "df_test_1_x = df_test_1.drop(['y'], axis=1)"
   ]
  },
  {
   "cell_type": "markdown",
   "metadata": {},
   "source": [
    "## Standardization"
   ]
  },
  {
   "cell_type": "code",
   "execution_count": 10,
   "metadata": {},
   "outputs": [],
   "source": [
    "scaler = StandardScaler().fit(df_train_0_x)\n",
    "\n",
    "df_train_0_x_rescaled = scaler.transform(df_train_0_x)\n",
    "df_valid_0_x_rescaled = scaler.transform(df_valid_0_x)\n",
    "\n",
    "df_valid_x_rescaled = scaler.transform(df_valid.drop(['y'], axis = 1))\n",
    "df_test_0_x_rescaled = scaler.transform(df_test_0_x)\n",
    "df_test_x_rescaled = scaler.transform(df_test.drop(['y'], axis = 1))"
   ]
  },
  {
   "cell_type": "markdown",
   "metadata": {},
   "source": [
    "# Autoencoder Classifier\n",
    "\n",
    "## Initialization"
   ]
  },
  {
   "cell_type": "code",
   "execution_count": 11,
   "metadata": {},
   "outputs": [
    {
     "name": "stdout",
     "output_type": "stream",
     "text": [
      "_________________________________________________________________\n",
      "Layer (type)                 Output Shape              Param #   \n",
      "=================================================================\n",
      "input_1 (InputLayer)         (None, 59)                0         \n",
      "_________________________________________________________________\n",
      "dense_1 (Dense)              (None, 32)                1920      \n",
      "_________________________________________________________________\n",
      "dense_2 (Dense)              (None, 16)                528       \n",
      "_________________________________________________________________\n",
      "dense_3 (Dense)              (None, 16)                272       \n",
      "_________________________________________________________________\n",
      "dense_4 (Dense)              (None, 32)                544       \n",
      "_________________________________________________________________\n",
      "dense_5 (Dense)              (None, 59)                1947      \n",
      "=================================================================\n",
      "Total params: 5,211\n",
      "Trainable params: 5,211\n",
      "Non-trainable params: 0\n",
      "_________________________________________________________________\n"
     ]
    }
   ],
   "source": [
    "nb_epoch = 200\n",
    "batch_size = 128\n",
    "input_dim = df_train_0_x_rescaled.shape[1] #num of predictor variables, \n",
    "encoding_dim = 32\n",
    "hidden_dim = int(encoding_dim / 2)\n",
    "learning_rate = 1e-3\n",
    "\n",
    "input_layer = Input(shape=(input_dim, ))\n",
    "encoder = Dense(encoding_dim, activation=\"relu\", activity_regularizer=regularizers.l1(learning_rate))(input_layer)\n",
    "encoder = Dense(hidden_dim, activation=\"relu\")(encoder)\n",
    "decoder = Dense(hidden_dim, activation=\"relu\")(encoder)\n",
    "decoder = Dense(encoding_dim, activation=\"relu\")(decoder)\n",
    "decoder = Dense(input_dim, activation=\"linear\")(decoder)\n",
    "autoencoder = Model(inputs=input_layer, outputs=decoder)\n",
    "\n",
    "autoencoder.summary()"
   ]
  },
  {
   "cell_type": "markdown",
   "metadata": {},
   "source": [
    "## Training "
   ]
  },
  {
   "cell_type": "code",
   "execution_count": 12,
   "metadata": {},
   "outputs": [
    {
     "name": "stdout",
     "output_type": "stream",
     "text": [
      "Train on 11697 samples, validate on 2926 samples\n",
      "Epoch 1/200\n",
      "11697/11697 [==============================] - 0s 27us/step - loss: 2.0893 - acc: 0.0414 - val_loss: 1.5697 - val_acc: 0.0420\n",
      "Epoch 2/200\n",
      "11697/11697 [==============================] - 0s 11us/step - loss: 1.1753 - acc: 0.0449 - val_loss: 0.9747 - val_acc: 0.0420\n",
      "Epoch 3/200\n",
      "11697/11697 [==============================] - 0s 11us/step - loss: 0.7964 - acc: 0.0604 - val_loss: 0.7724 - val_acc: 0.0776\n",
      "Epoch 4/200\n",
      "11697/11697 [==============================] - 0s 11us/step - loss: 0.6700 - acc: 0.1030 - val_loss: 0.6879 - val_acc: 0.1159\n",
      "Epoch 5/200\n",
      "11697/11697 [==============================] - 0s 12us/step - loss: 0.6034 - acc: 0.1181 - val_loss: 0.6240 - val_acc: 0.1326\n",
      "Epoch 6/200\n",
      "11697/11697 [==============================] - 0s 11us/step - loss: 0.5527 - acc: 0.1412 - val_loss: 0.5741 - val_acc: 0.1524\n",
      "Epoch 7/200\n",
      "11697/11697 [==============================] - 0s 11us/step - loss: 0.5134 - acc: 0.1595 - val_loss: 0.5379 - val_acc: 0.1610\n",
      "Epoch 8/200\n",
      "11697/11697 [==============================] - 0s 17us/step - loss: 0.4805 - acc: 0.1534 - val_loss: 0.5063 - val_acc: 0.1466\n",
      "Epoch 9/200\n",
      "11697/11697 [==============================] - 0s 13us/step - loss: 0.4557 - acc: 0.1603 - val_loss: 0.4852 - val_acc: 0.1702\n",
      "Epoch 10/200\n",
      "11697/11697 [==============================] - 0s 14us/step - loss: 0.4371 - acc: 0.1735 - val_loss: 0.4688 - val_acc: 0.1815\n",
      "Epoch 11/200\n",
      "11697/11697 [==============================] - 0s 15us/step - loss: 0.4219 - acc: 0.1878 - val_loss: 0.4549 - val_acc: 0.2013\n",
      "Epoch 12/200\n",
      "11697/11697 [==============================] - 0s 13us/step - loss: 0.4082 - acc: 0.1928 - val_loss: 0.4429 - val_acc: 0.2075\n",
      "Epoch 13/200\n",
      "11697/11697 [==============================] - 0s 12us/step - loss: 0.3967 - acc: 0.2064 - val_loss: 0.4339 - val_acc: 0.2252\n",
      "Epoch 14/200\n",
      "11697/11697 [==============================] - 0s 12us/step - loss: 0.3869 - acc: 0.2288 - val_loss: 0.4210 - val_acc: 0.2416\n",
      "Epoch 15/200\n",
      "11697/11697 [==============================] - 0s 13us/step - loss: 0.3772 - acc: 0.2412 - val_loss: 0.4101 - val_acc: 0.2519\n",
      "Epoch 16/200\n",
      "11697/11697 [==============================] - 0s 13us/step - loss: 0.3692 - acc: 0.2532 - val_loss: 0.3994 - val_acc: 0.2546\n",
      "Epoch 17/200\n",
      "11697/11697 [==============================] - 0s 12us/step - loss: 0.3589 - acc: 0.2590 - val_loss: 0.3889 - val_acc: 0.2796\n",
      "Epoch 18/200\n",
      "11697/11697 [==============================] - 0s 13us/step - loss: 0.3510 - acc: 0.2694 - val_loss: 0.3847 - val_acc: 0.2813\n",
      "Epoch 19/200\n",
      "11697/11697 [==============================] - 0s 16us/step - loss: 0.3439 - acc: 0.2769 - val_loss: 0.3789 - val_acc: 0.2837\n",
      "Epoch 20/200\n",
      "11697/11697 [==============================] - 0s 14us/step - loss: 0.3392 - acc: 0.2834 - val_loss: 0.3757 - val_acc: 0.2963\n",
      "Epoch 21/200\n",
      "11697/11697 [==============================] - 0s 13us/step - loss: 0.3330 - acc: 0.2893 - val_loss: 0.3640 - val_acc: 0.2888\n",
      "Epoch 22/200\n",
      "11697/11697 [==============================] - 0s 20us/step - loss: 0.3260 - acc: 0.2948 - val_loss: 0.3560 - val_acc: 0.3018\n",
      "Epoch 23/200\n",
      "11697/11697 [==============================] - 0s 14us/step - loss: 0.3213 - acc: 0.2991 - val_loss: 0.3514 - val_acc: 0.3083\n",
      "Epoch 24/200\n",
      "11697/11697 [==============================] - 0s 18us/step - loss: 0.3175 - acc: 0.3055 - val_loss: 0.3506 - val_acc: 0.2874\n",
      "Epoch 25/200\n",
      "11697/11697 [==============================] - 0s 12us/step - loss: 0.3139 - acc: 0.3059 - val_loss: 0.3435 - val_acc: 0.3137\n",
      "Epoch 26/200\n",
      "11697/11697 [==============================] - 0s 12us/step - loss: 0.3097 - acc: 0.3106 - val_loss: 0.3388 - val_acc: 0.3042\n",
      "Epoch 27/200\n",
      "11697/11697 [==============================] - 0s 15us/step - loss: 0.3061 - acc: 0.3139 - val_loss: 0.3363 - val_acc: 0.3254\n",
      "Epoch 28/200\n",
      "11697/11697 [==============================] - 0s 14us/step - loss: 0.3017 - acc: 0.3240 - val_loss: 0.3321 - val_acc: 0.3189\n",
      "Epoch 29/200\n",
      "11697/11697 [==============================] - 0s 14us/step - loss: 0.2988 - acc: 0.3243 - val_loss: 0.3313 - val_acc: 0.3390\n",
      "Epoch 30/200\n",
      "11697/11697 [==============================] - 0s 12us/step - loss: 0.2976 - acc: 0.3353 - val_loss: 0.3251 - val_acc: 0.3448\n",
      "Epoch 31/200\n",
      "11697/11697 [==============================] - 0s 16us/step - loss: 0.2959 - acc: 0.3420 - val_loss: 0.3213 - val_acc: 0.3438\n",
      "Epoch 32/200\n",
      "11697/11697 [==============================] - 0s 13us/step - loss: 0.2908 - acc: 0.3483 - val_loss: 0.3165 - val_acc: 0.3370\n",
      "Epoch 33/200\n",
      "11697/11697 [==============================] - 0s 12us/step - loss: 0.2877 - acc: 0.3495 - val_loss: 0.3150 - val_acc: 0.3541\n",
      "Epoch 34/200\n",
      "11697/11697 [==============================] - 0s 18us/step - loss: 0.2846 - acc: 0.3540 - val_loss: 0.3141 - val_acc: 0.3442\n",
      "Epoch 35/200\n",
      "11697/11697 [==============================] - 0s 14us/step - loss: 0.2858 - acc: 0.3550 - val_loss: 0.3093 - val_acc: 0.3790\n",
      "Epoch 36/200\n",
      "11697/11697 [==============================] - 0s 14us/step - loss: 0.2800 - acc: 0.3686 - val_loss: 0.3043 - val_acc: 0.3715\n",
      "Epoch 37/200\n",
      "11697/11697 [==============================] - 0s 13us/step - loss: 0.2784 - acc: 0.3730 - val_loss: 0.3080 - val_acc: 0.3773\n",
      "Epoch 38/200\n",
      "11697/11697 [==============================] - 0s 13us/step - loss: 0.2763 - acc: 0.3798 - val_loss: 0.3018 - val_acc: 0.3694\n",
      "Epoch 39/200\n",
      "11697/11697 [==============================] - 0s 12us/step - loss: 0.2755 - acc: 0.3823 - val_loss: 0.3022 - val_acc: 0.3838\n",
      "Epoch 40/200\n",
      "11697/11697 [==============================] - 0s 12us/step - loss: 0.2735 - acc: 0.3823 - val_loss: 0.3032 - val_acc: 0.3807\n",
      "Epoch 41/200\n",
      "11697/11697 [==============================] - 0s 17us/step - loss: 0.2715 - acc: 0.3841 - val_loss: 0.2966 - val_acc: 0.4180\n",
      "Epoch 42/200\n",
      "11697/11697 [==============================] - 0s 12us/step - loss: 0.2699 - acc: 0.3955 - val_loss: 0.2974 - val_acc: 0.3879\n",
      "Epoch 43/200\n",
      "11697/11697 [==============================] - 0s 13us/step - loss: 0.2716 - acc: 0.3913 - val_loss: 0.2923 - val_acc: 0.3732\n",
      "Epoch 44/200\n",
      "11697/11697 [==============================] - 0s 14us/step - loss: 0.2667 - acc: 0.3928 - val_loss: 0.2960 - val_acc: 0.4070\n",
      "Epoch 45/200\n",
      "11697/11697 [==============================] - 0s 14us/step - loss: 0.2686 - acc: 0.3928 - val_loss: 0.2911 - val_acc: 0.3978\n",
      "Epoch 46/200\n",
      "11697/11697 [==============================] - 0s 13us/step - loss: 0.2650 - acc: 0.3983 - val_loss: 0.2880 - val_acc: 0.4098\n",
      "Epoch 47/200\n",
      "11697/11697 [==============================] - 0s 11us/step - loss: 0.2629 - acc: 0.4014 - val_loss: 0.2890 - val_acc: 0.3865\n",
      "Epoch 48/200\n",
      "11697/11697 [==============================] - 0s 11us/step - loss: 0.2623 - acc: 0.3933 - val_loss: 0.2867 - val_acc: 0.4135\n",
      "Epoch 49/200\n",
      "11697/11697 [==============================] - 0s 11us/step - loss: 0.2600 - acc: 0.4001 - val_loss: 0.2839 - val_acc: 0.4023\n",
      "Epoch 50/200\n",
      "11697/11697 [==============================] - 0s 12us/step - loss: 0.2586 - acc: 0.4035 - val_loss: 0.2839 - val_acc: 0.4176\n",
      "Epoch 51/200\n",
      "11697/11697 [==============================] - 0s 12us/step - loss: 0.2580 - acc: 0.4008 - val_loss: 0.2794 - val_acc: 0.4105\n",
      "Epoch 52/200\n",
      "11697/11697 [==============================] - 0s 11us/step - loss: 0.2565 - acc: 0.4019 - val_loss: 0.2803 - val_acc: 0.4057\n",
      "Epoch 53/200\n",
      "11697/11697 [==============================] - 0s 11us/step - loss: 0.2548 - acc: 0.4037 - val_loss: 0.2815 - val_acc: 0.4125\n",
      "Epoch 54/200\n",
      "11697/11697 [==============================] - 0s 12us/step - loss: 0.2542 - acc: 0.4042 - val_loss: 0.2795 - val_acc: 0.3992\n",
      "Epoch 55/200\n",
      "11697/11697 [==============================] - 0s 11us/step - loss: 0.2559 - acc: 0.3989 - val_loss: 0.2779 - val_acc: 0.4269\n",
      "Epoch 56/200\n",
      "11697/11697 [==============================] - 0s 12us/step - loss: 0.2549 - acc: 0.4097 - val_loss: 0.2794 - val_acc: 0.4115\n",
      "Epoch 57/200\n",
      "11697/11697 [==============================] - 0s 13us/step - loss: 0.2516 - acc: 0.4110 - val_loss: 0.2729 - val_acc: 0.4211\n",
      "Epoch 58/200\n",
      "11697/11697 [==============================] - 0s 13us/step - loss: 0.2493 - acc: 0.4138 - val_loss: 0.2719 - val_acc: 0.4149\n",
      "Epoch 59/200\n"
     ]
    },
    {
     "name": "stdout",
     "output_type": "stream",
     "text": [
      "11697/11697 [==============================] - 0s 13us/step - loss: 0.2482 - acc: 0.4134 - val_loss: 0.2792 - val_acc: 0.4190\n",
      "Epoch 60/200\n",
      "11697/11697 [==============================] - 0s 12us/step - loss: 0.2484 - acc: 0.4206 - val_loss: 0.2731 - val_acc: 0.4299\n",
      "Epoch 61/200\n",
      "11697/11697 [==============================] - 0s 12us/step - loss: 0.2473 - acc: 0.4163 - val_loss: 0.2757 - val_acc: 0.4183\n",
      "Epoch 62/200\n",
      "11697/11697 [==============================] - 0s 12us/step - loss: 0.2466 - acc: 0.4149 - val_loss: 0.2687 - val_acc: 0.4354\n",
      "Epoch 63/200\n",
      "11697/11697 [==============================] - 0s 12us/step - loss: 0.2471 - acc: 0.4150 - val_loss: 0.2730 - val_acc: 0.4224\n",
      "Epoch 64/200\n",
      "11697/11697 [==============================] - 0s 12us/step - loss: 0.2510 - acc: 0.4162 - val_loss: 0.2721 - val_acc: 0.4368\n",
      "Epoch 65/200\n",
      "11697/11697 [==============================] - 0s 12us/step - loss: 0.2476 - acc: 0.4171 - val_loss: 0.2673 - val_acc: 0.4255\n",
      "Epoch 66/200\n",
      "11697/11697 [==============================] - 0s 11us/step - loss: 0.2418 - acc: 0.4208 - val_loss: 0.2663 - val_acc: 0.4221\n",
      "Epoch 67/200\n",
      "11697/11697 [==============================] - 0s 11us/step - loss: 0.2420 - acc: 0.4188 - val_loss: 0.2687 - val_acc: 0.4204\n",
      "Epoch 68/200\n",
      "11697/11697 [==============================] - 0s 11us/step - loss: 0.2420 - acc: 0.4187 - val_loss: 0.2640 - val_acc: 0.4316\n",
      "Epoch 69/200\n",
      "11697/11697 [==============================] - 0s 11us/step - loss: 0.2404 - acc: 0.4168 - val_loss: 0.2628 - val_acc: 0.4320\n",
      "Epoch 70/200\n",
      "11697/11697 [==============================] - 0s 11us/step - loss: 0.2397 - acc: 0.4223 - val_loss: 0.2616 - val_acc: 0.4409\n",
      "Epoch 71/200\n",
      "11697/11697 [==============================] - 0s 11us/step - loss: 0.2399 - acc: 0.4179 - val_loss: 0.2616 - val_acc: 0.4344\n",
      "Epoch 72/200\n",
      "11697/11697 [==============================] - 0s 11us/step - loss: 0.2382 - acc: 0.4186 - val_loss: 0.2615 - val_acc: 0.4265\n",
      "Epoch 73/200\n",
      "11697/11697 [==============================] - 0s 11us/step - loss: 0.2440 - acc: 0.4212 - val_loss: 0.2601 - val_acc: 0.4258\n",
      "Epoch 74/200\n",
      "11697/11697 [==============================] - 0s 11us/step - loss: 0.2368 - acc: 0.4222 - val_loss: 0.2605 - val_acc: 0.4170\n",
      "Epoch 75/200\n",
      "11697/11697 [==============================] - 0s 11us/step - loss: 0.2409 - acc: 0.4195 - val_loss: 0.2665 - val_acc: 0.4443\n",
      "Epoch 76/200\n",
      "11697/11697 [==============================] - 0s 11us/step - loss: 0.2377 - acc: 0.4216 - val_loss: 0.2594 - val_acc: 0.4217\n",
      "Epoch 77/200\n",
      "11697/11697 [==============================] - 0s 12us/step - loss: 0.2348 - acc: 0.4206 - val_loss: 0.2558 - val_acc: 0.4238\n",
      "Epoch 78/200\n",
      "11697/11697 [==============================] - 0s 12us/step - loss: 0.2337 - acc: 0.4233 - val_loss: 0.2537 - val_acc: 0.4265\n",
      "Epoch 79/200\n",
      "11697/11697 [==============================] - 0s 14us/step - loss: 0.2319 - acc: 0.4245 - val_loss: 0.2540 - val_acc: 0.4255\n",
      "Epoch 80/200\n",
      "11697/11697 [==============================] - 0s 16us/step - loss: 0.2315 - acc: 0.4230 - val_loss: 0.2548 - val_acc: 0.4470\n",
      "Epoch 81/200\n",
      "11697/11697 [==============================] - 0s 12us/step - loss: 0.2318 - acc: 0.4270 - val_loss: 0.2529 - val_acc: 0.4262\n",
      "Epoch 82/200\n",
      "11697/11697 [==============================] - 0s 11us/step - loss: 0.2313 - acc: 0.4295 - val_loss: 0.2538 - val_acc: 0.4204\n",
      "Epoch 83/200\n",
      "11697/11697 [==============================] - 0s 12us/step - loss: 0.2320 - acc: 0.4252 - val_loss: 0.2516 - val_acc: 0.4207\n",
      "Epoch 84/200\n",
      "11697/11697 [==============================] - 0s 17us/step - loss: 0.2302 - acc: 0.4248 - val_loss: 0.2500 - val_acc: 0.4385\n",
      "Epoch 85/200\n",
      "11697/11697 [==============================] - 0s 12us/step - loss: 0.2293 - acc: 0.4263 - val_loss: 0.2505 - val_acc: 0.4385\n",
      "Epoch 86/200\n",
      "11697/11697 [==============================] - 0s 11us/step - loss: 0.2279 - acc: 0.4274 - val_loss: 0.2499 - val_acc: 0.4395\n",
      "Epoch 87/200\n",
      "11697/11697 [==============================] - 0s 17us/step - loss: 0.2289 - acc: 0.4263 - val_loss: 0.2534 - val_acc: 0.4245\n",
      "Epoch 88/200\n",
      "11697/11697 [==============================] - 0s 16us/step - loss: 0.2304 - acc: 0.4261 - val_loss: 0.2484 - val_acc: 0.4087\n",
      "Epoch 89/200\n",
      "11697/11697 [==============================] - 0s 12us/step - loss: 0.2291 - acc: 0.4276 - val_loss: 0.2495 - val_acc: 0.4019\n",
      "Epoch 90/200\n",
      "11697/11697 [==============================] - 0s 14us/step - loss: 0.2297 - acc: 0.4268 - val_loss: 0.2501 - val_acc: 0.4433\n",
      "Epoch 91/200\n",
      "11697/11697 [==============================] - 0s 13us/step - loss: 0.2268 - acc: 0.4303 - val_loss: 0.2448 - val_acc: 0.4320\n",
      "Epoch 92/200\n",
      "11697/11697 [==============================] - 0s 13us/step - loss: 0.2270 - acc: 0.4285 - val_loss: 0.2429 - val_acc: 0.4463\n",
      "Epoch 93/200\n",
      "11697/11697 [==============================] - 0s 14us/step - loss: 0.2255 - acc: 0.4296 - val_loss: 0.2506 - val_acc: 0.4450\n",
      "Epoch 94/200\n",
      "11697/11697 [==============================] - 0s 13us/step - loss: 0.2279 - acc: 0.4267 - val_loss: 0.2470 - val_acc: 0.4440\n",
      "Epoch 95/200\n",
      "11697/11697 [==============================] - 0s 14us/step - loss: 0.2251 - acc: 0.4328 - val_loss: 0.2486 - val_acc: 0.4494\n",
      "Epoch 96/200\n",
      "11697/11697 [==============================] - 0s 15us/step - loss: 0.2266 - acc: 0.4294 - val_loss: 0.2456 - val_acc: 0.4446\n",
      "Epoch 97/200\n",
      "11697/11697 [==============================] - 0s 14us/step - loss: 0.2257 - acc: 0.4284 - val_loss: 0.2460 - val_acc: 0.4481\n",
      "Epoch 98/200\n",
      "11697/11697 [==============================] - 0s 13us/step - loss: 0.2247 - acc: 0.4316 - val_loss: 0.2472 - val_acc: 0.4351\n",
      "Epoch 99/200\n",
      "11697/11697 [==============================] - 0s 13us/step - loss: 0.2240 - acc: 0.4316 - val_loss: 0.2448 - val_acc: 0.4405\n",
      "Epoch 100/200\n",
      "11697/11697 [==============================] - 0s 13us/step - loss: 0.2232 - acc: 0.4377 - val_loss: 0.2450 - val_acc: 0.4484\n",
      "Epoch 101/200\n",
      "11697/11697 [==============================] - 0s 13us/step - loss: 0.2223 - acc: 0.4340 - val_loss: 0.2432 - val_acc: 0.4627\n",
      "Epoch 102/200\n",
      "11697/11697 [==============================] - 0s 13us/step - loss: 0.2222 - acc: 0.4354 - val_loss: 0.2417 - val_acc: 0.4470\n",
      "Epoch 103/200\n",
      "11697/11697 [==============================] - 0s 13us/step - loss: 0.2215 - acc: 0.4380 - val_loss: 0.2438 - val_acc: 0.4433\n",
      "Epoch 104/200\n",
      "11697/11697 [==============================] - 0s 16us/step - loss: 0.2242 - acc: 0.4339 - val_loss: 0.2430 - val_acc: 0.4426\n",
      "Epoch 105/200\n",
      "11697/11697 [==============================] - 0s 16us/step - loss: 0.2224 - acc: 0.4382 - val_loss: 0.2448 - val_acc: 0.4528\n",
      "Epoch 106/200\n",
      "11697/11697 [==============================] - 0s 17us/step - loss: 0.2248 - acc: 0.4332 - val_loss: 0.2427 - val_acc: 0.4583\n",
      "Epoch 107/200\n",
      "11697/11697 [==============================] - 0s 14us/step - loss: 0.2219 - acc: 0.4365 - val_loss: 0.2435 - val_acc: 0.4371\n",
      "Epoch 108/200\n",
      "11697/11697 [==============================] - 0s 12us/step - loss: 0.2195 - acc: 0.4414 - val_loss: 0.2397 - val_acc: 0.4453\n",
      "Epoch 109/200\n",
      "11697/11697 [==============================] - 0s 12us/step - loss: 0.2201 - acc: 0.4375 - val_loss: 0.2421 - val_acc: 0.4552\n",
      "Epoch 110/200\n",
      "11697/11697 [==============================] - 0s 12us/step - loss: 0.2193 - acc: 0.4422 - val_loss: 0.2386 - val_acc: 0.4569\n",
      "Epoch 111/200\n",
      "11697/11697 [==============================] - 0s 12us/step - loss: 0.2191 - acc: 0.4433 - val_loss: 0.2430 - val_acc: 0.4334\n",
      "Epoch 112/200\n",
      "11697/11697 [==============================] - 0s 12us/step - loss: 0.2210 - acc: 0.4412 - val_loss: 0.2419 - val_acc: 0.4364\n",
      "Epoch 113/200\n",
      "11697/11697 [==============================] - 0s 12us/step - loss: 0.2199 - acc: 0.4406 - val_loss: 0.2381 - val_acc: 0.4778\n",
      "Epoch 114/200\n",
      "11697/11697 [==============================] - 0s 11us/step - loss: 0.2174 - acc: 0.4413 - val_loss: 0.2378 - val_acc: 0.4665\n",
      "Epoch 115/200\n",
      "11697/11697 [==============================] - 0s 12us/step - loss: 0.2182 - acc: 0.4440 - val_loss: 0.2405 - val_acc: 0.4730\n",
      "Epoch 116/200\n",
      "11697/11697 [==============================] - 0s 12us/step - loss: 0.2214 - acc: 0.4367 - val_loss: 0.2388 - val_acc: 0.4504\n",
      "Epoch 117/200\n",
      "11697/11697 [==============================] - 0s 11us/step - loss: 0.2171 - acc: 0.4441 - val_loss: 0.2370 - val_acc: 0.4375\n"
     ]
    },
    {
     "name": "stdout",
     "output_type": "stream",
     "text": [
      "Epoch 118/200\n",
      "11697/11697 [==============================] - 0s 11us/step - loss: 0.2190 - acc: 0.4411 - val_loss: 0.2604 - val_acc: 0.4648\n",
      "Epoch 119/200\n",
      "11697/11697 [==============================] - 0s 11us/step - loss: 0.2207 - acc: 0.4401 - val_loss: 0.2360 - val_acc: 0.4576\n",
      "Epoch 120/200\n",
      "11697/11697 [==============================] - 0s 10us/step - loss: 0.2177 - acc: 0.4413 - val_loss: 0.2378 - val_acc: 0.4552\n",
      "Epoch 121/200\n",
      "11697/11697 [==============================] - 0s 11us/step - loss: 0.2194 - acc: 0.4441 - val_loss: 0.2403 - val_acc: 0.4586\n",
      "Epoch 122/200\n",
      "11697/11697 [==============================] - 0s 11us/step - loss: 0.2177 - acc: 0.4420 - val_loss: 0.2364 - val_acc: 0.4710\n",
      "Epoch 123/200\n",
      "11697/11697 [==============================] - 0s 13us/step - loss: 0.2158 - acc: 0.4416 - val_loss: 0.2372 - val_acc: 0.4590\n",
      "Epoch 124/200\n",
      "11697/11697 [==============================] - 0s 12us/step - loss: 0.2160 - acc: 0.4440 - val_loss: 0.2351 - val_acc: 0.4528\n",
      "Epoch 125/200\n",
      "11697/11697 [==============================] - 0s 12us/step - loss: 0.2159 - acc: 0.4417 - val_loss: 0.2378 - val_acc: 0.4651\n",
      "Epoch 126/200\n",
      "11697/11697 [==============================] - 0s 11us/step - loss: 0.2170 - acc: 0.4414 - val_loss: 0.2392 - val_acc: 0.4583\n",
      "Epoch 127/200\n",
      "11697/11697 [==============================] - 0s 11us/step - loss: 0.2153 - acc: 0.4428 - val_loss: 0.2422 - val_acc: 0.4402\n",
      "Epoch 128/200\n",
      "11697/11697 [==============================] - 0s 11us/step - loss: 0.2176 - acc: 0.4420 - val_loss: 0.2433 - val_acc: 0.4470\n",
      "Epoch 129/200\n",
      "11697/11697 [==============================] - 0s 14us/step - loss: 0.2183 - acc: 0.4437 - val_loss: 0.2406 - val_acc: 0.4419\n",
      "Epoch 130/200\n",
      "11697/11697 [==============================] - 0s 12us/step - loss: 0.2150 - acc: 0.4470 - val_loss: 0.2397 - val_acc: 0.4419\n",
      "Epoch 131/200\n",
      "11697/11697 [==============================] - 0s 11us/step - loss: 0.2153 - acc: 0.4358 - val_loss: 0.2354 - val_acc: 0.4498\n",
      "Epoch 132/200\n",
      "11697/11697 [==============================] - 0s 11us/step - loss: 0.2144 - acc: 0.4438 - val_loss: 0.2341 - val_acc: 0.4614\n",
      "Epoch 133/200\n",
      "11697/11697 [==============================] - 0s 11us/step - loss: 0.2141 - acc: 0.4369 - val_loss: 0.2363 - val_acc: 0.4484\n",
      "Epoch 134/200\n",
      "11697/11697 [==============================] - 0s 11us/step - loss: 0.2153 - acc: 0.4418 - val_loss: 0.2382 - val_acc: 0.4323\n",
      "Epoch 135/200\n",
      "11697/11697 [==============================] - 0s 11us/step - loss: 0.2162 - acc: 0.4375 - val_loss: 0.2420 - val_acc: 0.4340\n",
      "Epoch 136/200\n",
      "11697/11697 [==============================] - 0s 11us/step - loss: 0.2165 - acc: 0.4407 - val_loss: 0.2347 - val_acc: 0.4463\n",
      "Epoch 137/200\n",
      "11697/11697 [==============================] - 0s 11us/step - loss: 0.2149 - acc: 0.4418 - val_loss: 0.2342 - val_acc: 0.4552\n",
      "Epoch 138/200\n",
      "11697/11697 [==============================] - 0s 11us/step - loss: 0.2139 - acc: 0.4411 - val_loss: 0.2341 - val_acc: 0.4385\n",
      "Epoch 139/200\n",
      "11697/11697 [==============================] - 0s 10us/step - loss: 0.2135 - acc: 0.4360 - val_loss: 0.2358 - val_acc: 0.4580\n",
      "Epoch 140/200\n",
      "11697/11697 [==============================] - 0s 13us/step - loss: 0.2137 - acc: 0.4359 - val_loss: 0.2339 - val_acc: 0.4518\n",
      "Epoch 141/200\n",
      "11697/11697 [==============================] - 0s 12us/step - loss: 0.2132 - acc: 0.4417 - val_loss: 0.2359 - val_acc: 0.4621\n",
      "Epoch 142/200\n",
      "11697/11697 [==============================] - 0s 13us/step - loss: 0.2128 - acc: 0.4503 - val_loss: 0.2344 - val_acc: 0.4590\n",
      "Epoch 143/200\n",
      "11697/11697 [==============================] - 0s 12us/step - loss: 0.2147 - acc: 0.4386 - val_loss: 0.2399 - val_acc: 0.4303\n",
      "Epoch 144/200\n",
      "11697/11697 [==============================] - 0s 11us/step - loss: 0.2128 - acc: 0.4398 - val_loss: 0.2337 - val_acc: 0.4470\n",
      "Epoch 145/200\n",
      "11697/11697 [==============================] - 0s 10us/step - loss: 0.2116 - acc: 0.4370 - val_loss: 0.2292 - val_acc: 0.4487\n",
      "Epoch 146/200\n",
      "11697/11697 [==============================] - 0s 11us/step - loss: 0.2094 - acc: 0.4401 - val_loss: 0.2303 - val_acc: 0.4617\n",
      "Epoch 147/200\n",
      "11697/11697 [==============================] - 0s 11us/step - loss: 0.2115 - acc: 0.4445 - val_loss: 0.2348 - val_acc: 0.4426\n",
      "Epoch 148/200\n",
      "11697/11697 [==============================] - 0s 14us/step - loss: 0.2127 - acc: 0.4428 - val_loss: 0.2314 - val_acc: 0.4443\n",
      "Epoch 149/200\n",
      "11697/11697 [==============================] - 0s 11us/step - loss: 0.2106 - acc: 0.4439 - val_loss: 0.2326 - val_acc: 0.4597\n",
      "Epoch 150/200\n",
      "11697/11697 [==============================] - 0s 11us/step - loss: 0.2162 - acc: 0.4379 - val_loss: 0.2450 - val_acc: 0.4166\n",
      "Epoch 151/200\n",
      "11697/11697 [==============================] - 0s 11us/step - loss: 0.2175 - acc: 0.4328 - val_loss: 0.2345 - val_acc: 0.4614\n",
      "Epoch 152/200\n",
      "11697/11697 [==============================] - 0s 12us/step - loss: 0.2100 - acc: 0.4474 - val_loss: 0.2285 - val_acc: 0.4501\n",
      "Epoch 153/200\n",
      "11697/11697 [==============================] - 0s 11us/step - loss: 0.2099 - acc: 0.4429 - val_loss: 0.2333 - val_acc: 0.4429\n",
      "Epoch 154/200\n",
      "11697/11697 [==============================] - 0s 11us/step - loss: 0.2101 - acc: 0.4436 - val_loss: 0.2310 - val_acc: 0.4569\n",
      "Epoch 155/200\n",
      "11697/11697 [==============================] - 0s 11us/step - loss: 0.2095 - acc: 0.4436 - val_loss: 0.2318 - val_acc: 0.4484\n",
      "Epoch 156/200\n",
      "11697/11697 [==============================] - 0s 11us/step - loss: 0.2100 - acc: 0.4440 - val_loss: 0.2344 - val_acc: 0.4535\n",
      "Epoch 157/200\n",
      "11697/11697 [==============================] - 0s 11us/step - loss: 0.2175 - acc: 0.4411 - val_loss: 0.2302 - val_acc: 0.4730\n",
      "Epoch 158/200\n",
      "11697/11697 [==============================] - 0s 11us/step - loss: 0.2090 - acc: 0.4526 - val_loss: 0.2302 - val_acc: 0.4463\n",
      "Epoch 159/200\n",
      "11697/11697 [==============================] - 0s 11us/step - loss: 0.2092 - acc: 0.4477 - val_loss: 0.2290 - val_acc: 0.4487\n",
      "Epoch 160/200\n",
      "11697/11697 [==============================] - 0s 11us/step - loss: 0.2083 - acc: 0.4452 - val_loss: 0.2279 - val_acc: 0.4542\n",
      "Epoch 161/200\n",
      "11697/11697 [==============================] - 0s 11us/step - loss: 0.2094 - acc: 0.4505 - val_loss: 0.2319 - val_acc: 0.4440\n",
      "Epoch 162/200\n",
      "11697/11697 [==============================] - 0s 11us/step - loss: 0.2087 - acc: 0.4455 - val_loss: 0.2294 - val_acc: 0.4600\n",
      "Epoch 163/200\n",
      "11697/11697 [==============================] - 0s 11us/step - loss: 0.2078 - acc: 0.4500 - val_loss: 0.2279 - val_acc: 0.4518\n",
      "Epoch 164/200\n",
      "11697/11697 [==============================] - 0s 11us/step - loss: 0.2077 - acc: 0.4488 - val_loss: 0.2317 - val_acc: 0.4723\n",
      "Epoch 165/200\n",
      "11697/11697 [==============================] - 0s 11us/step - loss: 0.2108 - acc: 0.4505 - val_loss: 0.2320 - val_acc: 0.4604\n",
      "Epoch 166/200\n",
      "11697/11697 [==============================] - 0s 11us/step - loss: 0.2087 - acc: 0.4500 - val_loss: 0.2308 - val_acc: 0.4590\n",
      "Epoch 167/200\n",
      "11697/11697 [==============================] - 0s 12us/step - loss: 0.2071 - acc: 0.4489 - val_loss: 0.2340 - val_acc: 0.4535\n",
      "Epoch 168/200\n",
      "11697/11697 [==============================] - 0s 15us/step - loss: 0.2124 - acc: 0.4440 - val_loss: 0.2289 - val_acc: 0.4648\n",
      "Epoch 169/200\n",
      "11697/11697 [==============================] - 0s 15us/step - loss: 0.2081 - acc: 0.4479 - val_loss: 0.2417 - val_acc: 0.4590\n",
      "Epoch 170/200\n",
      "11697/11697 [==============================] - 0s 12us/step - loss: 0.2122 - acc: 0.4517 - val_loss: 0.2372 - val_acc: 0.4545\n",
      "Epoch 171/200\n",
      "11697/11697 [==============================] - 0s 12us/step - loss: 0.2103 - acc: 0.4570 - val_loss: 0.2319 - val_acc: 0.4419\n",
      "Epoch 172/200\n",
      "11697/11697 [==============================] - 0s 11us/step - loss: 0.2098 - acc: 0.4499 - val_loss: 0.2303 - val_acc: 0.4638\n",
      "Epoch 173/200\n",
      "11697/11697 [==============================] - 0s 11us/step - loss: 0.2071 - acc: 0.4586 - val_loss: 0.2286 - val_acc: 0.4593\n",
      "Epoch 174/200\n",
      "11697/11697 [==============================] - 0s 11us/step - loss: 0.2062 - acc: 0.4560 - val_loss: 0.2299 - val_acc: 0.4525\n",
      "Epoch 175/200\n",
      "11697/11697 [==============================] - 0s 11us/step - loss: 0.2055 - acc: 0.4504 - val_loss: 0.2279 - val_acc: 0.4778\n",
      "Epoch 176/200\n"
     ]
    },
    {
     "name": "stdout",
     "output_type": "stream",
     "text": [
      "11697/11697 [==============================] - 0s 17us/step - loss: 0.2061 - acc: 0.4523 - val_loss: 0.2334 - val_acc: 0.4788\n",
      "Epoch 177/200\n",
      "11697/11697 [==============================] - 0s 15us/step - loss: 0.2065 - acc: 0.4554 - val_loss: 0.2322 - val_acc: 0.4597\n",
      "Epoch 178/200\n",
      "11697/11697 [==============================] - 0s 12us/step - loss: 0.2084 - acc: 0.4570 - val_loss: 0.2285 - val_acc: 0.4662\n",
      "Epoch 179/200\n",
      "11697/11697 [==============================] - 0s 11us/step - loss: 0.2060 - acc: 0.4590 - val_loss: 0.2331 - val_acc: 0.4535\n",
      "Epoch 180/200\n",
      "11697/11697 [==============================] - 0s 11us/step - loss: 0.2065 - acc: 0.4553 - val_loss: 0.2311 - val_acc: 0.4474\n",
      "Epoch 181/200\n",
      "11697/11697 [==============================] - 0s 12us/step - loss: 0.2076 - acc: 0.4554 - val_loss: 0.2282 - val_acc: 0.4668\n",
      "Epoch 182/200\n",
      "11697/11697 [==============================] - 0s 14us/step - loss: 0.2084 - acc: 0.4550 - val_loss: 0.2349 - val_acc: 0.4655\n",
      "Epoch 183/200\n",
      "11697/11697 [==============================] - 0s 14us/step - loss: 0.2113 - acc: 0.4541 - val_loss: 0.2270 - val_acc: 0.4559\n",
      "Epoch 184/200\n",
      "11697/11697 [==============================] - 0s 14us/step - loss: 0.2067 - acc: 0.4565 - val_loss: 0.2337 - val_acc: 0.4668\n",
      "Epoch 185/200\n",
      "11697/11697 [==============================] - 0s 13us/step - loss: 0.2074 - acc: 0.4607 - val_loss: 0.2255 - val_acc: 0.4744\n",
      "Epoch 186/200\n",
      "11697/11697 [==============================] - 0s 12us/step - loss: 0.2053 - acc: 0.4555 - val_loss: 0.2259 - val_acc: 0.4686\n",
      "Epoch 187/200\n",
      "11697/11697 [==============================] - 0s 13us/step - loss: 0.2056 - acc: 0.4624 - val_loss: 0.2273 - val_acc: 0.4710\n",
      "Epoch 188/200\n",
      "11697/11697 [==============================] - 0s 21us/step - loss: 0.2040 - acc: 0.4630 - val_loss: 0.2270 - val_acc: 0.4545\n",
      "Epoch 189/200\n",
      "11697/11697 [==============================] - 0s 21us/step - loss: 0.2049 - acc: 0.4616 - val_loss: 0.2251 - val_acc: 0.4785\n",
      "Epoch 190/200\n",
      "11697/11697 [==============================] - 0s 13us/step - loss: 0.2026 - acc: 0.4646 - val_loss: 0.2323 - val_acc: 0.4754\n",
      "Epoch 191/200\n",
      "11697/11697 [==============================] - 0s 13us/step - loss: 0.2059 - acc: 0.4542 - val_loss: 0.2315 - val_acc: 0.4621\n",
      "Epoch 192/200\n",
      "11697/11697 [==============================] - 0s 13us/step - loss: 0.2038 - acc: 0.4570 - val_loss: 0.2271 - val_acc: 0.4733\n",
      "Epoch 193/200\n",
      "11697/11697 [==============================] - 0s 12us/step - loss: 0.2088 - acc: 0.4643 - val_loss: 0.2285 - val_acc: 0.4648\n",
      "Epoch 194/200\n",
      "11697/11697 [==============================] - 0s 11us/step - loss: 0.2052 - acc: 0.4592 - val_loss: 0.2263 - val_acc: 0.4757\n",
      "Epoch 195/200\n",
      "11697/11697 [==============================] - 0s 11us/step - loss: 0.2023 - acc: 0.4654 - val_loss: 0.2275 - val_acc: 0.4586\n",
      "Epoch 196/200\n",
      "11697/11697 [==============================] - 0s 15us/step - loss: 0.2068 - acc: 0.4552 - val_loss: 0.2312 - val_acc: 0.4727\n",
      "Epoch 197/200\n",
      "11697/11697 [==============================] - 0s 11us/step - loss: 0.2042 - acc: 0.4635 - val_loss: 0.2269 - val_acc: 0.4638\n",
      "Epoch 198/200\n",
      "11697/11697 [==============================] - 0s 11us/step - loss: 0.2029 - acc: 0.4629 - val_loss: 0.2243 - val_acc: 0.4915\n",
      "Epoch 199/200\n",
      "11697/11697 [==============================] - 0s 12us/step - loss: 0.2050 - acc: 0.4661 - val_loss: 0.2279 - val_acc: 0.4706\n",
      "Epoch 200/200\n",
      "11697/11697 [==============================] - 0s 11us/step - loss: 0.2053 - acc: 0.4607 - val_loss: 0.2290 - val_acc: 0.4624\n"
     ]
    }
   ],
   "source": [
    "autoencoder.compile(metrics=['accuracy'],\n",
    "                    loss='mean_squared_error',\n",
    "                    optimizer='adam')\n",
    "\n",
    "cp = ModelCheckpoint(filepath=\"autoencoder_classifier.h5\",\n",
    "                               save_best_only=True,\n",
    "                               verbose=0)\n",
    "\n",
    "tb = TensorBoard(log_dir='./logs',\n",
    "                histogram_freq=0,\n",
    "                write_graph=True,\n",
    "                write_images=True)\n",
    "\n",
    "history = autoencoder.fit(df_train_0_x_rescaled, df_train_0_x_rescaled,\n",
    "                    epochs=nb_epoch,\n",
    "                    batch_size=batch_size,\n",
    "                    shuffle=True,\n",
    "                    validation_data=(df_valid_0_x_rescaled, df_valid_0_x_rescaled),\n",
    "                    verbose=1,\n",
    "                    callbacks=[cp, tb]).history"
   ]
  },
  {
   "cell_type": "markdown",
   "metadata": {},
   "source": [
    "## Classification\n",
    "\n",
    "If the reconstruction error is high, we will classify it as a sheet-break. We will need to determine the threshold for this. We will use the validation set to identify the threshold."
   ]
  },
  {
   "cell_type": "code",
   "execution_count": 17,
   "metadata": {},
   "outputs": [
    {
     "data": {
      "image/png": "[encoded data removed]",
      "text/plain": [
       "<Figure size 432x288 with 1 Axes>"
      ]
     },
     "metadata": {},
     "output_type": "display_data"
    },
    {
     "data": {
      "text/plain": [
       "<Figure size 432x288 with 0 Axes>"
      ]
     },
     "metadata": {},
     "output_type": "display_data"
    }
   ],
   "source": [
    "valid_x_predictions = autoencoder.predict(df_valid_x_rescaled)\n",
    "\n",
    "mse = np.mean(np.power(df_valid_x_rescaled - valid_x_predictions, 2), axis=1)\n",
    "error_df = pd.DataFrame({'Reconstruction_error': mse,\n",
    "                        'True_class': df_valid['y']})\n",
    "\n",
    "precision_rt, recall_rt, threshold_rt = precision_recall_curve(error_df.True_class, error_df.Reconstruction_error)\n",
    "\n",
    "plt.plot(threshold_rt, precision_rt[1:], label=\"Precision\",linewidth=5)\n",
    "plt.plot(threshold_rt, recall_rt[1:], label=\"Recall\",linewidth=5)\n",
    "plt.title('Precision and recall for different threshold values')\n",
    "plt.xlabel('Threshold')\n",
    "plt.ylabel('Precision/Recall')\n",
    "plt.legend()\n",
    "plt.show()\n",
    "\n",
    "plt.savefig('../figures/Precision_Recall.png')"
   ]
  },
  {
   "cell_type": "markdown",
   "metadata": {},
   "source": [
    "we will perform classification on the test data."
   ]
  },
  {
   "cell_type": "code",
   "execution_count": 18,
   "metadata": {},
   "outputs": [
    {
     "data": {
      "image/png": "[encoded data removed]",
      "text/plain": [
       "<Figure size 432x288 with 1 Axes>"
      ]
     },
     "metadata": {},
     "output_type": "display_data"
    },
    {
     "data": {
      "text/plain": [
       "<Figure size 432x288 with 0 Axes>"
      ]
     },
     "metadata": {},
     "output_type": "display_data"
    }
   ],
   "source": [
    "test_x_predictions = autoencoder.predict(df_test_x_rescaled)\n",
    "mse = np.mean(np.power(df_test_x_rescaled - test_x_predictions, 2), axis=1)\n",
    "error_df_test = pd.DataFrame({'Reconstruction_error': mse,\n",
    "                        'True_class': df_test['y']})\n",
    "\n",
    "error_df_test = error_df_test.reset_index()\n",
    "threshold_fixed = 0.4\n",
    "groups = error_df_test.groupby('True_class')\n",
    "fig, ax = plt.subplots()\n",
    "\n",
    "for name, group in groups:\n",
    "    ax.plot(group.index, group.Reconstruction_error, marker='o', ms=3.5, linestyle='',\n",
    "            label= \"Break\" if name == 1 else \"Normal\")\n",
    "    \n",
    "ax.hlines(threshold_fixed, ax.get_xlim()[0], ax.get_xlim()[1], colors=\"r\", zorder=100, label='Threshold')\n",
    "ax.legend()\n",
    "plt.title(\"Reconstruction error for different classes\")\n",
    "plt.ylabel(\"Reconstruction error\")\n",
    "plt.xlabel(\"Data point index\")\n",
    "plt.show();\n",
    "plt.savefig(\"../figures/Fig2.Reconstruction_Error.png\")"
   ]
  },
  {
   "cell_type": "markdown",
   "metadata": {},
   "source": [
    "## Confusion matrix"
   ]
  },
  {
   "cell_type": "code",
   "execution_count": 19,
   "metadata": {},
   "outputs": [
    {
     "data": {
      "image/png": "[encoded data removed]",
      "text/plain": [
       "<Figure size 864x864 with 2 Axes>"
      ]
     },
     "metadata": {},
     "output_type": "display_data"
    },
    {
     "data": {
      "text/plain": [
       "<Figure size 432x288 with 0 Axes>"
      ]
     },
     "metadata": {},
     "output_type": "display_data"
    }
   ],
   "source": [
    "pred_y = [1 if e > threshold_fixed else 0 for e in error_df.Reconstruction_error.values]\n",
    "conf_matrix = confusion_matrix(error_df.True_class, pred_y)\n",
    "\n",
    "plt.figure(figsize=(12, 12))\n",
    "sns.heatmap(conf_matrix, xticklabels=LABELS, yticklabels=LABELS, annot=True, fmt=\"d\");\n",
    "plt.title(\"Confusion matrix\")\n",
    "plt.ylabel('True class')\n",
    "plt.xlabel('Predicted class')\n",
    "plt.show()\n",
    "plt.savefig(\"../figures/Confusion_Matrix\")"
   ]
  },
  {
   "cell_type": "markdown",
   "metadata": {},
   "source": [
    "## ROC curve and AUC"
   ]
  },
  {
   "cell_type": "code",
   "execution_count": 20,
   "metadata": {},
   "outputs": [
    {
     "data": {
      "image/png": "[encoded data removed]",
      "text/plain": [
       "<Figure size 432x288 with 1 Axes>"
      ]
     },
     "metadata": {},
     "output_type": "display_data"
    },
    {
     "data": {
      "text/plain": [
       "<Figure size 432x288 with 0 Axes>"
      ]
     },
     "metadata": {},
     "output_type": "display_data"
    }
   ],
   "source": [
    "false_pos_rate, true_pos_rate, thresholds = roc_curve(error_df.True_class, error_df.Reconstruction_error)\n",
    "roc_auc = auc(false_pos_rate, true_pos_rate,)\n",
    "\n",
    "plt.plot(false_pos_rate, true_pos_rate, linewidth=5, label='AUC = %0.3f'% roc_auc)\n",
    "plt.plot([0,1],[0,1], linewidth=5)\n",
    "plt.xlim([-0.01, 1])\n",
    "plt.ylim([0, 1.01])\n",
    "plt.legend(loc='lower right')\n",
    "plt.title('Receiver operating characteristic curve (ROC)')\n",
    "plt.ylabel('True Positive Rate')\n",
    "plt.xlabel('False Positive Rate')\n",
    "plt.show()\n",
    "plt.savefig(\"../figures/AUC_ROC.png\")"
   ]
  },
  {
   "cell_type": "code",
   "execution_count": null,
   "metadata": {},
   "outputs": [],
   "source": []
  }
 ],
 "metadata": {
  "kernelspec": {
   "display_name": "Python 3",
   "language": "python",
   "name": "python3"
  },
  "language_info": {
   "codemirror_mode": {
    "name": "ipython",
    "version": 3
   },
   "file_extension": ".py",
   "mimetype": "text/x-python",
   "name": "python",
   "nbconvert_exporter": "python",
   "pygments_lexer": "ipython3",
   "version": "3.6.5"
  }
 },
 "nbformat": 4,
 "nbformat_minor": 2
}
